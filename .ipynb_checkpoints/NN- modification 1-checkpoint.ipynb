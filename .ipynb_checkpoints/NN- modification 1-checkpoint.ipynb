{
 "cells": [
  {
   "cell_type": "code",
   "execution_count": 272,
   "metadata": {},
   "outputs": [],
   "source": [
    "import tensorflow as tf\n",
    "import pandas as pd\n",
    "import numpy as np\n",
    "from sklearn.model_selection import train_test_split\n",
    "import matplotlib.pyplot as plt"
   ]
  },
  {
   "cell_type": "code",
   "execution_count": 287,
   "metadata": {},
   "outputs": [
    {
     "data": {
      "text/plain": [
       "Index(['sex', 'address', 'Medu', 'Fedu', 'Mjob', 'Fjob', 'traveltime',\n",
       "       'studytime', 'failures', 'schoolsup', 'famsup', 'paid', 'activities',\n",
       "       'nursery', 'higher', 'internet', 'freetime', 'goout', 'health',\n",
       "       'absences', 'G1', 'G2', 'G3'],\n",
       "      dtype='object')"
      ]
     },
     "execution_count": 287,
     "metadata": {},
     "output_type": "execute_result"
    }
   ],
   "source": [
    "data = pd.read_csv('data.csv')\n",
    "#data.info()\n",
    "data.columns\n"
   ]
  },
  {
   "cell_type": "code",
   "execution_count": 293,
   "metadata": {},
   "outputs": [],
   "source": [
    "X =data[['sex', 'address', 'Medu', 'Fedu', 'Mjob', 'Fjob', 'traveltime',\n",
    "       'studytime', 'failures', 'schoolsup', 'famsup', 'paid', 'activities',\n",
    "       'nursery', 'higher', 'internet', 'freetime', 'goout', 'health',\n",
    "       'absences']]\n",
    "Y = data[['G1','G2','G3']]\n",
    "\n",
    "input_nodes = len(X.columns)\n",
    "output_nodes = len(Y.columns)"
   ]
  },
  {
   "cell_type": "code",
   "execution_count": 294,
   "metadata": {},
   "outputs": [],
   "source": [
    "X_train, X_test, y_train, y_test = train_test_split(X, Y, test_size=0.30)\n",
    "\n"
   ]
  },
  {
   "cell_type": "code",
   "execution_count": null,
   "metadata": {},
   "outputs": [],
   "source": []
  },
  {
   "cell_type": "code",
   "execution_count": 301,
   "metadata": {},
   "outputs": [],
   "source": [
    "def train_model(input_nodes, hidden_nodes, num_iters):\n",
    "    #Placeholders for input and output data\n",
    "    X = tf.placeholder(shape=(None,input_nodes), dtype=tf.float32, name='X')\n",
    "    y = tf.placeholder(shape=(None,3), dtype=tf.float32, name='y')\n",
    "    # Variables for two groups of weights between three layers of neurons\n",
    "    W1 = tf.Variable(np.random.rand(input_nodes, hidden_nodes),dtype=tf.float32)\n",
    "    W2 = tf.Variable(np.random.rand(hidden_nodes,3),dtype=tf.float32)\n",
    "    \n",
    "    \n",
    "    # Create the neural net graph\n",
    "    A1 = tf.sigmoid(tf.matmul(X,W1))\n",
    "    y_est = tf.sigmoid(tf.matmul(A1,W2))\n",
    "    \n",
    "    # Define a loss function\n",
    "    deltas = tf.square(y_est - y)\n",
    "    loss = tf.reduce_sum(deltas)\n",
    "    \n",
    "    # Define a train operation to minimize the loss\n",
    "    optimizer = tf.train.GradientDescentOptimizer(0.1)\n",
    "    train = optimizer.minimize(loss)\n",
    "    \n",
    "    # Initialize variales and run session\n",
    "    init = tf.global_variables_initializer()\n",
    "    sess = tf.Session()\n",
    "    sess.run(init)\n",
    "    \n",
    "    # Go through num_iters iterations\n",
    "    for i in range(num_iters):\n",
    "        sess.run(train, feed_dict={X: X_train, y: y_train})\n",
    "        loss_plot[hidden_nodes].append(sess.run(loss, feed_dict={X: X_train.as_matrix(), y:y_train.as_matrix()}))\n",
    "        weights1 = sess.run(W1)\n",
    "        weights2 = sess.run(W2)\n",
    "        \n",
    "    print(\"loss (hidden nodes: %d, iterations: %d): %.2f\" % (hidden_nodes,num_iters,loss_plot[hidden_nodes][-1]))\n",
    "    sess.close()\n",
    "    return weights1,weights2"
   ]
  },
  {
   "cell_type": "code",
   "execution_count": null,
   "metadata": {
    "scrolled": false
   },
   "outputs": [],
   "source": [
    "num_hiddens_nodes = [5, 10, 20, 30, 40]\n",
    "loss_plot = {5: [],10: [], 20: [],30: [], 40: []}\n",
    "weights1 = {5: None, 10: None, 20: None, 30: None, 40: None}\n",
    "weights2 = {5: None, 10: None, 20: None, 30: None, 40: None}\n",
    "num_iters = 1000\n",
    "\n",
    "plt.figure(figsize=(12,8))\n",
    "for hidden_nodes in num_hiddens_nodes:\n",
    "    weights1[hidden_nodes], weights2[hidden_nodes] = train_model(input_nodes,hidden_nodes,num_iters)\n",
    "    plt.plot(range(num_iters),loss_plot[hidden_nodes], label=\"nn: 4-%d-2\" % hidden_nodes)\n",
    "    \n",
    "plt.xlabel('Iteration', fontsize=12)  \n",
    "plt.ylabel('Loss', fontsize=12)  \n",
    "plt.legend(fontsize=12)  "
   ]
  },
  {
   "cell_type": "code",
   "execution_count": 292,
   "metadata": {},
   "outputs": [
    {
     "name": "stderr",
     "output_type": "stream",
     "text": [
      "/home/artur/.conda/envs/ML_proj/lib/python3.6/site-packages/ipykernel_launcher.py:21: FutureWarning: Method .as_matrix will be removed in a future version. Use .values instead.\n"
     ]
    },
    {
     "name": "stdout",
     "output_type": "stream",
     "text": [
      "Network architecture 20-5-3, accuracy: 42.56%\n",
      "Network architecture 20-10-3, accuracy: 42.56%\n",
      "Network architecture 20-20-3, accuracy: 43.08%\n",
      "Network architecture 20-30-3, accuracy: 42.56%\n",
      "Network architecture 20-40-3, accuracy: 42.56%\n"
     ]
    }
   ],
   "source": [
    "# Model evaluation on test set\n",
    "\n",
    "X = tf.placeholder(shape=(None,input_nodes), dtype = tf.float32, name='X')\n",
    "y = tf.placeholder(shape=(None,3), dtype = tf.float32, name='y')\n",
    "\n",
    "for hidden_nodes in num_hiddens_nodes:\n",
    "    W1 = tf.Variable(weights1[hidden_nodes])\n",
    "    W2 = tf.Variable(weights2[hidden_nodes])\n",
    "    A1 = tf.sigmoid(tf.matmul(X,W1))\n",
    "    y_est = tf.sigmoid(tf.matmul(A1,W2))\n",
    "    \n",
    "    #Calculate predicted outputs\n",
    "    init = tf.global_variables_initializer()\n",
    "    with tf.Session() as sess:\n",
    "        sess.run(init)\n",
    "        y_est_np = sess.run(y_est, feed_dict={X: X_test, y: y_test})\n",
    "        \n",
    "    # Calculate the prediction accuracy\n",
    "    \n",
    "    correct = [estimate.argmax(axis=0) == target.argmax(axis=0)\n",
    "               for estimate, target in zip(y_est_np, y_test.as_matrix())]\n",
    "    accuracy = 100 * sum(correct) / len(correct)\n",
    "    print('Network architecture %d-%d-%d, accuracy: %.2f%%' % (input_nodes,hidden_nodes,output_nodes, accuracy))\n",
    "    "
   ]
  },
  {
   "cell_type": "code",
   "execution_count": null,
   "metadata": {},
   "outputs": [],
   "source": []
  },
  {
   "cell_type": "code",
   "execution_count": null,
   "metadata": {},
   "outputs": [],
   "source": []
  },
  {
   "cell_type": "code",
   "execution_count": null,
   "metadata": {},
   "outputs": [],
   "source": []
  }
 ],
 "metadata": {
  "kernelspec": {
   "display_name": "Python 3",
   "language": "python",
   "name": "python3"
  },
  "language_info": {
   "codemirror_mode": {
    "name": "ipython",
    "version": 3
   },
   "file_extension": ".py",
   "mimetype": "text/x-python",
   "name": "python",
   "nbconvert_exporter": "python",
   "pygments_lexer": "ipython3",
   "version": "3.6.7"
  }
 },
 "nbformat": 4,
 "nbformat_minor": 2
}
